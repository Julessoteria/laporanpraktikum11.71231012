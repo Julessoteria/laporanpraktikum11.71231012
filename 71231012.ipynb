{
 "cells": [
  {
   "cell_type": "code",
   "execution_count": null,
   "id": "deb2febc",
   "metadata": {},
   "outputs": [],
   "source": [
    "dict = {1: 10, 2: 20, 3: 30, 4:40, 5:50, 6:60}\n",
    "\n",
    "print(f\"Dictonary : {dict}\\n\")\n",
    "print(\"key  \",\"value  \",\"item\")\n",
    "\n",
    "for key,values in dict.items():\n",
    "    print(f\"{key}\\t{values}\\t{key}\")"
   ]
  },
  {
   "cell_type": "code",
   "execution_count": null,
   "id": "6725ba8b",
   "metadata": {},
   "outputs": [],
   "source": [
    "listx = ['red', 'green', 'blue']\n",
    "listy = ['#FF0000', '#008000', '#0000FF']\n",
    "dict = {}\n",
    "\n",
    "for i in range(3):\n",
    "    dict[listx[i]] = listy[i]\n",
    "    \n",
    "print(f\"List x : {listx}\")\n",
    "print(f\"List y : {listy}\")\n",
    "print(dict)"
   ]
  },
  {
   "cell_type": "code",
   "execution_count": null,
   "id": "765699e1",
   "metadata": {},
   "outputs": [],
   "source": [
    "inputan = str(input(\"masukan nama file: \"))\n",
    "file = open(inputan)\n",
    "\n",
    "email_log = {}\n",
    "\n",
    "for i in file:\n",
    "    if i.startswith(\"From \"):\n",
    "        baris_split = i.split()\n",
    "        if len(baris_split) > 1:\n",
    "            email = baris_split[1]\n",
    "            if \"@\" in email:\n",
    "                if email in email_log:\n",
    "                    email_log[email] += 1\n",
    "                else:\n",
    "                    email_log[email] = 1\n",
    "\n",
    "print(email_log)"
   ]
  },
  {
   "cell_type": "code",
   "execution_count": null,
   "id": "4dd6e3c8",
   "metadata": {},
   "outputs": [],
   "source": [
    "inputan = str(input(\"masukan nama file: \"))\n",
    "file = open(inputan)\n",
    "\n",
    "email_log = {}\n",
    "domain_log = {}\n",
    "\n",
    "for i in file:\n",
    "    if i.startswith(\"From \"):\n",
    "        baris_split = i.split()\n",
    "        if len(baris_split) > 1:\n",
    "            email = baris_split[1]\n",
    "            if \"@\" in email:\n",
    "                if email in email_log:\n",
    "                    email_log[email] += 1\n",
    "                else:\n",
    "                    email_log[email] = 1\n",
    "\n",
    "for i in email_log:\n",
    "    if i[str(i).find(\"@\")+1:] not in domain_log:\n",
    "        domain_log.update({i[str(i).find(\"@\")+1:] : email_log[i]})\n",
    "    else:\n",
    "        domain_log[i[str(i).find(\"@\")+1:]] += email_log[i]\n",
    "\n",
    "print(domain_log)"
   ]
  }
 ],
 "metadata": {
  "kernelspec": {
   "display_name": "Python 3 (ipykernel)",
   "language": "python",
   "name": "python3"
  },
  "language_info": {
   "codemirror_mode": {
    "name": "ipython",
    "version": 3
   },
   "file_extension": ".py",
   "mimetype": "text/x-python",
   "name": "python",
   "nbconvert_exporter": "python",
   "pygments_lexer": "ipython3",
   "version": "3.11.5"
  }
 },
 "nbformat": 4,
 "nbformat_minor": 5
}
