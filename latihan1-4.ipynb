{
 "cells": [
  {
   "cell_type": "code",
   "execution_count": 2,
   "id": "ce1a977d",
   "metadata": {},
   "outputs": [
    {
     "name": "stdout",
     "output_type": "stream",
     "text": [
      "Dictonary : {1: 10, 2: 20, 3: 30, 4: 40, 5: 50, 6: 60}\n",
      "\n",
      "key   value   item\n",
      "1\t10\t1\n",
      "2\t20\t2\n",
      "3\t30\t3\n",
      "4\t40\t4\n",
      "5\t50\t5\n",
      "6\t60\t6\n"
     ]
    }
   ],
   "source": [
    "dict = {1: 10, 2: 20, 3: 30, 4:40, 5:50, 6:60}\n",
    "\n",
    "print(f\"Dictonary : {dict}\\n\")\n",
    "print(\"key  \",\"value  \",\"item\")\n",
    "\n",
    "for key,values in dict.items():\n",
    "    print(f\"{key}\\t{values}\\t{key}\")"
   ]
  },
  {
   "cell_type": "code",
   "execution_count": 3,
   "id": "33cd9ec7",
   "metadata": {},
   "outputs": [
    {
     "name": "stdout",
     "output_type": "stream",
     "text": [
      "List x : ['red', 'green', 'blue']\n",
      "List y : ['#FF0000', '#008000', '#0000FF']\n",
      "{'red': '#FF0000', 'green': '#008000', 'blue': '#0000FF'}\n"
     ]
    }
   ],
   "source": [
    "listx = ['red', 'green', 'blue']\n",
    "listy = ['#FF0000', '#008000', '#0000FF']\n",
    "dict = {}\n",
    "\n",
    "for i in range(3):\n",
    "    dict[listx[i]] = listy[i]\n",
    "    \n",
    "print(f\"List x : {listx}\")\n",
    "print(f\"List y : {listy}\")\n",
    "print(dict)\n",
    "\n"
   ]
  },
  {
   "cell_type": "code",
   "execution_count": null,
   "id": "beb18c9a",
   "metadata": {},
   "outputs": [],
   "source": [
    "file = input(\"Masukan nama file : \")\n",
    "handle = open(file)\n",
    "dicto = dict()\n",
    "\n",
    "for barisan in handle:\n",
    "    if barisan.startswith(\"From \"):\n",
    "        kat = barisan.split()\n",
    "        email = kat[1]\n",
    "\n",
    "        dicto[email] = dicto.get(email, 0) + 1\n",
    "    \n",
    "print(dicto)\n",
    "handle.close()"
   ]
  },
  {
   "cell_type": "code",
   "execution_count": null,
   "id": "fb44479a",
   "metadata": {},
   "outputs": [],
   "source": [
    "file = input(\"Masukan nama file : \")\n",
    "handle = open(file)\n",
    "dicto = dict()\n",
    "\n",
    "for barisan in handle:\n",
    "    if barisan.startswith(\"From \"):\n",
    "        kat = barisan.split()\n",
    "        email = kat[1]\n",
    "\n",
    "        smbol = email.find('@')\n",
    "        dmin = email[smbol + 1:]\n",
    "\n",
    "        dict[dmin] = dicto.get(dmin, 0) + 1\n",
    "\n",
    "print(dict)\n",
    "handle.close()"
   ]
  },
  {
   "cell_type": "code",
   "execution_count": null,
   "id": "2dd70b3e",
   "metadata": {},
   "outputs": [],
   "source": []
  }
 ],
 "metadata": {
  "kernelspec": {
   "display_name": "Python 3 (ipykernel)",
   "language": "python",
   "name": "python3"
  },
  "language_info": {
   "codemirror_mode": {
    "name": "ipython",
    "version": 3
   },
   "file_extension": ".py",
   "mimetype": "text/x-python",
   "name": "python",
   "nbconvert_exporter": "python",
   "pygments_lexer": "ipython3",
   "version": "3.11.5"
  }
 },
 "nbformat": 4,
 "nbformat_minor": 5
}
